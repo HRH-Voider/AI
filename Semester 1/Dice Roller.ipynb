{
 "cells": [
  {
   "cell_type": "code",
   "execution_count": null,
   "id": "43c269a2-d7c3-48cd-98da-fe8363d88302",
   "metadata": {},
   "outputs": [],
   "source": [
    "import numpy as np\n",
    "import pandas as pd\n",
    "import matplotlib.pyplot as plt\n",
    "import seaborn as sns\n",
    "\n",
    "# Set the random seed for reproducibility\n",
    "np.random.seed(42)\n",
    "\n",
    "# Simulation parameters\n",
    "num_trials = 1000\n",
    "sides = 12\n",
    "\n",
    "# Run the simulation\n",
    "rolls = np.random.randint(1, sides + 1, size=num_trials)\n",
    "\n",
    "# Create a DataFrame to store the results\n",
    "df = pd.DataFrame({'Roll': rolls})\n",
    "\n",
    "# Calculate the frequency of each outcome\n",
    "roll_counts = df['Roll'].value_counts().sort_index()\n",
    "\n",
    "# Create a figure with appropriate size\n",
    "plt.figure(figsize=(10, 6))\n",
    "\n",
    "# Create a bar plot using seaborn\n",
    "ax = sns.barplot(x=roll_counts.index, y=roll_counts.values, palette='viridis')\n",
    "\n",
    "# Add count labels on top of each bar\n",
    "for i, count in enumerate(roll_counts.values):\n",
    "    ax.text(i, count + 0.5, str(count), ha='center')\n",
    "\n",
    "# Add a horizontal line for the expected frequency\n",
    "expected = num_trials / sides\n",
    "plt.axhline(y=expected, color='red', linestyle='--', label=f'Expected ({expected})')\n",
    "\n",
    "# Customize the plot\n",
    "plt.title(f'Results of {num_trials} Rolls of a {sides}-sided Die', fontsize=16)\n",
    "plt.xlabel('Die Value', fontsize=12)\n",
    "plt.ylabel('Frequency', fontsize=12)\n",
    "plt.xticks(range(6), range(1, 7))\n",
    "plt.legend()\n",
    "plt.grid(axis='y', alpha=0.3)\n",
    "\n",
    "# Show the plot\n",
    "plt.tight_layout()\n",
    "plt.show()\n",
    "\n",
    "# Also create a distribution plot\n",
    "plt.figure(figsize=(10, 6))\n",
    "sns.histplot(df['Roll'], bins=sides, discrete=True, kde=True)\n",
    "plt.title(f'Distribution of {num_trials} Rolls of a {sides}-sided Die', fontsize=16)\n",
    "plt.xlabel('Die Value', fontsize=12)\n",
    "plt.ylabel('Frequency', fontsize=12)\n",
    "plt.xticks(range(1, sides + 1))\n",
    "plt.grid(axis='y', alpha=0.3)\n",
    "plt.tight_layout()\n",
    "plt.show()"
   ]
  },
  {
   "cell_type": "code",
   "execution_count": null,
   "id": "25326a98-8a92-4134-bb23-0d60e2ce46a1",
   "metadata": {},
   "outputs": [],
   "source": [
    "random.randint(1, 6)"
   ]
  }
 ],
 "metadata": {
  "kernelspec": {
   "display_name": "anaconda-ai-2024.04-py310",
   "language": "python",
   "name": "conda-env-anaconda-ai-2024.04-py310-py"
  },
  "language_info": {
   "codemirror_mode": {
    "name": "ipython",
    "version": 3
   },
   "file_extension": ".py",
   "mimetype": "text/x-python",
   "name": "python",
   "nbconvert_exporter": "python",
   "pygments_lexer": "ipython3",
   "version": "3.10.13"
  }
 },
 "nbformat": 4,
 "nbformat_minor": 5
}
