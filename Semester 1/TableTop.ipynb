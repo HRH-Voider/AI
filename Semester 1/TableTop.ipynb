{
 "cells": [
  {
   "cell_type": "markdown",
   "id": "93df60cf-12b9-4e84-b800-d19e36fcc506",
   "metadata": {},
   "source": [
    "What is the probablity of drawing a unique ace monster from a deck of 60 cards at the start of the game in Yugioh. The start of the game has each player draw 5 cards"
   ]
  },
  {
   "cell_type": "markdown",
   "id": "6dcf14cf-05df-4c5c-ab9a-cdbf51a4f0f6",
   "metadata": {},
   "source": [
    "This study will be an observational study (as I won't be changing any variables within this, only observing using a technique) using this code to randomly pull 5 cards and check if one of them is the selected target."
   ]
  }
 ],
 "metadata": {
  "kernelspec": {
   "display_name": "anaconda-ai-2024.04-py310",
   "language": "python",
   "name": "conda-env-anaconda-ai-2024.04-py310-py"
  },
  "language_info": {
   "codemirror_mode": {
    "name": "ipython",
    "version": 3
   },
   "file_extension": ".py",
   "mimetype": "text/x-python",
   "name": "python",
   "nbconvert_exporter": "python",
   "pygments_lexer": "ipython3",
   "version": "3.10.13"
  }
 },
 "nbformat": 4,
 "nbformat_minor": 5
}
