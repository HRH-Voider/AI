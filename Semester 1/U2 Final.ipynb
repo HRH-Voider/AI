{
 "cells": [
  {
   "cell_type": "markdown",
   "id": "5c8f53df-dcd6-4db1-ba04-5623d54f75f8",
   "metadata": {},
   "source": [
    "What is the probability that a blackjack player wins exactly 2 out of 5 rounds?"
   ]
  },
  {
   "cell_type": "markdown",
   "id": "99da2a08-07e6-4ba9-afe0-61757665e3f6",
   "metadata": {},
   "source": [
    "During this experiment, I will be assuming that the player has a 25% chance of winning a round of blackjack, that all the rounds are independent of one-another. One trial of my simulation would be 5 rounds of blackjack, where I would check if they won two of those rounds."
   ]
  },
  {
   "cell_type": "code",
   "execution_count": 14,
   "id": "1747d0b5-18a7-4f96-8cdf-335f98f6f514",
   "metadata": {},
   "outputs": [
    {
     "name": "stdout",
     "output_type": "stream",
     "text": [
      "Empirical probability of winning exactly 2 out of 5 rounds: 0.3470\n"
     ]
    }
   ],
   "source": [
    "import gymnasium as gym\n",
    "\n",
    "# Create the Blackjack environment\n",
    "env = gym.make('Blackjack-v1', natural=False, sab=False)\n",
    "\n",
    "num_trials = 10000  # Run many trials to get a stable estimate\n",
    "rounds_per_trial = 5\n",
    "target_wins = 2\n",
    "count_exact_2 = 0\n",
    "\n",
    "for _ in range(num_trials):\n",
    "    wins = 0\n",
    "    for _ in range(rounds_per_trial):\n",
    "        observation, info = env.reset()\n",
    "        terminated = False\n",
    "        truncated = False\n",
    "        \n",
    "        # Simple random policy: hit until sum >= 18, then stick\n",
    "        while not (terminated or truncated):\n",
    "            player_sum, dealer_card, usable_ace = observation\n",
    "            if player_sum < 18:\n",
    "                action = 1  # hit\n",
    "            else:\n",
    "                action = 0  # stick\n",
    "            observation, reward, terminated, truncated, info = env.step(action)\n",
    "\n",
    "        if reward == 1:\n",
    "            wins += 1\n",
    "\n",
    "    if wins == target_wins:\n",
    "        count_exact_2 += 1\n",
    "\n",
    "env.close()\n",
    "\n",
    "# Calculate the probability\n",
    "empirical_probability = count_exact_2 / num_trials\n",
    "print(f\"Empirical probability of winning exactly 2 out of 5 rounds: {empirical_probability:.4f}\")\n"
   ]
  },
  {
   "cell_type": "markdown",
   "id": "3a377c4f-a322-4895-b28c-a392b849485a",
   "metadata": {},
   "source": [
    "The empirical probability of winning exactly 2 out of 5 rounds of blackjack is around 34%. The theoretical probability of winning 2/5 rounds assuming a 25% win rate is 26%. The theoretical mean of this is 1.25. The empirical and theoretical probabilities are different due to the number of trials ran and the fact that the assumed chance of winning a round of blackjack is likely different from the actual \"true\" probability of winning a round, this is because I got my assumed probability from a friend, the actual probability might be much higher, with some sources claiming it's around 42%."
   ]
  }
 ],
 "metadata": {
  "kernelspec": {
   "display_name": "anaconda-ai-2024.04-py310",
   "language": "python",
   "name": "conda-env-anaconda-ai-2024.04-py310-py"
  },
  "language_info": {
   "codemirror_mode": {
    "name": "ipython",
    "version": 3
   },
   "file_extension": ".py",
   "mimetype": "text/x-python",
   "name": "python",
   "nbconvert_exporter": "python",
   "pygments_lexer": "ipython3",
   "version": "3.10.13"
  }
 },
 "nbformat": 4,
 "nbformat_minor": 5
}
