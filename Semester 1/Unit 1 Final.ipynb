{
 "cells": [
  {
   "cell_type": "markdown",
   "id": "2e2d90c0-9b1f-44e8-a5e6-7deb3e2565e6",
   "metadata": {},
   "source": [
    "Question: Is one Genre more associated with higher User Ratings than others?"
   ]
  },
  {
   "cell_type": "markdown",
   "id": "7a295b78-7c51-4c98-b744-a071baaa144e",
   "metadata": {},
   "source": [
    "This is an observational study, as I am analyzing data from the top 50 books on Amazon’s Best Sellers list without manipulating any variables. Most of the data were collected directly from Amazon’s Best Sellers lists, and any missing information was obtained using the GoodReads API. Since this dataset represents a sample rather than the entire population of books, the findings are based on this subset. The lists were scraped in October 2020, and because this dataset captures historical data from multiple years, it can also be considered a retrospective study.\n",
    "\n",
    "One potential bias in this dataset is that it only includes books listed on Amazon, which excludes books from other bookstores or libraries. As a result, certain books or genres that are critically acclaimed but less popular on Amazon may be underrepresented."
   ]
  },
  {
   "cell_type": "code",
   "execution_count": 18,
   "id": "192951db-111e-4a1a-85f7-8ed9263faec1",
   "metadata": {},
   "outputs": [
    {
     "data": {
      "text/html": [
       "<div>\n",
       "<style scoped>\n",
       "    .dataframe tbody tr th:only-of-type {\n",
       "        vertical-align: middle;\n",
       "    }\n",
       "\n",
       "    .dataframe tbody tr th {\n",
       "        vertical-align: top;\n",
       "    }\n",
       "\n",
       "    .dataframe thead th {\n",
       "        text-align: right;\n",
       "    }\n",
       "</style>\n",
       "<table border=\"1\" class=\"dataframe\">\n",
       "  <thead>\n",
       "    <tr style=\"text-align: right;\">\n",
       "      <th></th>\n",
       "      <th>Name</th>\n",
       "      <th>Author</th>\n",
       "      <th>User Rating</th>\n",
       "      <th>Reviews</th>\n",
       "      <th>Price</th>\n",
       "      <th>Year</th>\n",
       "      <th>Genre</th>\n",
       "    </tr>\n",
       "  </thead>\n",
       "  <tbody>\n",
       "    <tr>\n",
       "      <th>0</th>\n",
       "      <td>10-Day Green Smoothie Cleanse</td>\n",
       "      <td>JJ Smith</td>\n",
       "      <td>4.7</td>\n",
       "      <td>17350</td>\n",
       "      <td>8</td>\n",
       "      <td>2016</td>\n",
       "      <td>Non Fiction</td>\n",
       "    </tr>\n",
       "    <tr>\n",
       "      <th>1</th>\n",
       "      <td>11/22/63: A Novel</td>\n",
       "      <td>Stephen King</td>\n",
       "      <td>4.6</td>\n",
       "      <td>2052</td>\n",
       "      <td>22</td>\n",
       "      <td>2011</td>\n",
       "      <td>Fiction</td>\n",
       "    </tr>\n",
       "    <tr>\n",
       "      <th>2</th>\n",
       "      <td>12 Rules for Life: An Antidote to Chaos</td>\n",
       "      <td>Jordan B. Peterson</td>\n",
       "      <td>4.7</td>\n",
       "      <td>18979</td>\n",
       "      <td>15</td>\n",
       "      <td>2018</td>\n",
       "      <td>Non Fiction</td>\n",
       "    </tr>\n",
       "    <tr>\n",
       "      <th>3</th>\n",
       "      <td>1984 (Signet Classics)</td>\n",
       "      <td>George Orwell</td>\n",
       "      <td>4.7</td>\n",
       "      <td>21424</td>\n",
       "      <td>6</td>\n",
       "      <td>2017</td>\n",
       "      <td>Fiction</td>\n",
       "    </tr>\n",
       "    <tr>\n",
       "      <th>4</th>\n",
       "      <td>5,000 Awesome Facts (About Everything!) (Natio...</td>\n",
       "      <td>National Geographic Kids</td>\n",
       "      <td>4.8</td>\n",
       "      <td>7665</td>\n",
       "      <td>12</td>\n",
       "      <td>2019</td>\n",
       "      <td>Non Fiction</td>\n",
       "    </tr>\n",
       "  </tbody>\n",
       "</table>\n",
       "</div>"
      ],
      "text/plain": [
       "                                                Name  \\\n",
       "0                      10-Day Green Smoothie Cleanse   \n",
       "1                                  11/22/63: A Novel   \n",
       "2            12 Rules for Life: An Antidote to Chaos   \n",
       "3                             1984 (Signet Classics)   \n",
       "4  5,000 Awesome Facts (About Everything!) (Natio...   \n",
       "\n",
       "                     Author  User Rating  Reviews  Price  Year        Genre  \n",
       "0                  JJ Smith          4.7    17350      8  2016  Non Fiction  \n",
       "1              Stephen King          4.6     2052     22  2011      Fiction  \n",
       "2        Jordan B. Peterson          4.7    18979     15  2018  Non Fiction  \n",
       "3             George Orwell          4.7    21424      6  2017      Fiction  \n",
       "4  National Geographic Kids          4.8     7665     12  2019  Non Fiction  "
      ]
     },
     "execution_count": 18,
     "metadata": {},
     "output_type": "execute_result"
    }
   ],
   "source": [
    "import pandas as pd\n",
    "\n",
    "# Read the CSV file (replace 'your_file.csv' with your actual filename)\n",
    "df = pd.read_csv(\"Unit 1 Final/books.csv\")\n",
    "\n",
    "# Display the first 5 rows\n",
    "df.head()\n"
   ]
  },
  {
   "cell_type": "code",
   "execution_count": 19,
   "id": "e17bc288-dccf-4470-bae6-17e11418ebef",
   "metadata": {},
   "outputs": [
    {
     "name": "stdout",
     "output_type": "stream",
     "text": [
      "                                                Name  \\\n",
      "0                      10-Day Green Smoothie Cleanse   \n",
      "1                                  11/22/63: A Novel   \n",
      "2            12 Rules for Life: An Antidote to Chaos   \n",
      "3                             1984 (Signet Classics)   \n",
      "4  5,000 Awesome Facts (About Everything!) (Natio...   \n",
      "\n",
      "                     Author  User Rating  Reviews  Price  Year        Genre  \n",
      "0                  JJ Smith          4.7    17350      8  2016  Non Fiction  \n",
      "1              Stephen King          4.6     2052     22  2011      Fiction  \n",
      "2        Jordan B. Peterson          4.7    18979     15  2018  Non Fiction  \n",
      "3             George Orwell          4.7    21424      6  2017      Fiction  \n",
      "4  National Geographic Kids          4.8     7665     12  2019  Non Fiction  \n",
      "<class 'pandas.core.frame.DataFrame'>\n",
      "RangeIndex: 550 entries, 0 to 549\n",
      "Data columns (total 7 columns):\n",
      " #   Column       Non-Null Count  Dtype  \n",
      "---  ------       --------------  -----  \n",
      " 0   Name         550 non-null    object \n",
      " 1   Author       550 non-null    object \n",
      " 2   User Rating  550 non-null    float64\n",
      " 3   Reviews      550 non-null    int64  \n",
      " 4   Price        550 non-null    int64  \n",
      " 5   Year         550 non-null    int64  \n",
      " 6   Genre        550 non-null    object \n",
      "dtypes: float64(1), int64(3), object(3)\n",
      "memory usage: 30.2+ KB\n",
      "None\n",
      "             count      mean       std  min  25%  50%  75%  max\n",
      "Genre                                                          \n",
      "Fiction      240.0  4.648333  0.265123  3.3  4.6  4.7  4.8  4.9\n",
      "Non Fiction  310.0  4.595161  0.189555  4.0  4.5  4.6  4.7  4.9\n"
     ]
    },
    {
     "name": "stderr",
     "output_type": "stream",
     "text": [
      "/tmp/ipykernel_159/2898457357.py:18: FutureWarning: The default of observed=False is deprecated and will be changed to True in a future version of pandas. Pass observed=False to retain current behavior or observed=True to adopt the future default and silence this warning.\n",
      "  genre_stats = df.groupby('Genre')['User Rating'].describe()\n",
      "/opt/conda/envs/anaconda-ai-2024.04-py310/lib/python3.10/site-packages/seaborn/categorical.py:641: FutureWarning: The default of observed=False is deprecated and will be changed to True in a future version of pandas. Pass observed=False to retain current behavior or observed=True to adopt the future default and silence this warning.\n",
      "  grouped_vals = vals.groupby(grouper)\n",
      "/tmp/ipykernel_159/2898457357.py:28: FutureWarning: The default of observed=False is deprecated and will be changed to True in a future version of pandas. Pass observed=False to retain current behavior or observed=True to adopt the future default and silence this warning.\n",
      "  means = df.groupby('Genre')['User Rating'].mean().reset_index()\n"
     ]
    },
    {
     "data": {
      "image/png": "[encoded data removed]",
      "text/plain": [
       "<Figure size 1000x600 with 1 Axes>"
      ]
     },
     "metadata": {},
     "output_type": "display_data"
    },
    {
     "name": "stdout",
     "output_type": "stream",
     "text": [
      "ANOVA Results:\n",
      "F-statistic: 7.511401790853317\n",
      "p-value: 0.006330997555282606\n",
      "✅ Significant differences between genres!\n"
     ]
    }
   ],
   "source": [
    "# Import libraries\n",
    "import pandas as pd\n",
    "import matplotlib.pyplot as plt\n",
    "import seaborn as sns\n",
    "from scipy import stats\n",
    "\n",
    "# Load your dataset\n",
    "df = pd.read_csv(\"Unit 1 Final/books.csv\")\n",
    "\n",
    "# Inspect the dataset\n",
    "print(df.head())\n",
    "print(df.info())\n",
    "\n",
    "# --- Step 1: Clean up genres (make sure it's categorical) ---\n",
    "df['Genre'] = df['Genre'].astype('category')\n",
    "\n",
    "# --- Step 2: Descriptive statistics ---\n",
    "genre_stats = df.groupby('Genre')['User Rating'].describe()\n",
    "print(genre_stats)\n",
    "\n",
    "# --- Step 3: Visualization with means ---\n",
    "plt.figure(figsize=(10,6))\n",
    "\n",
    "# Boxplot\n",
    "sns.boxplot(x=\"Genre\", y=\"User Rating\", data=df, palette=\"Set2\")\n",
    "\n",
    "# Overlay mean points\n",
    "means = df.groupby('Genre')['User Rating'].mean().reset_index()\n",
    "sns.scatterplot(x=\"Genre\", y=\"User Rating\", data=means, color='red', s=100, marker=\"D\", label=\"Mean\")\n",
    "\n",
    "plt.title(\"Distribution of User Ratings by Genre (2009–2019)\")\n",
    "plt.ylabel(\"Average User Rating\")\n",
    "plt.legend()\n",
    "plt.show()\n",
    "\n",
    "# --- Step 4: Statistical Test ---\n",
    "genres = df['Genre'].unique()\n",
    "groups = [df.loc[df['Genre']==g, 'User Rating'] for g in genres]\n",
    "\n",
    "f_stat, p_value = stats.f_oneway(*groups)\n",
    "print(\"ANOVA Results:\")\n",
    "print(\"F-statistic:\", f_stat)\n",
    "print(\"p-value:\", p_value)\n",
    "\n",
    "if p_value < 0.05:\n",
    "    print(\"✅ Significant differences between genres!\")\n",
    "else:\n",
    "    print(\"❌ No significant difference between genres.\")\n"
   ]
  },
  {
   "cell_type": "markdown",
   "id": "d8c6ce1e-220c-49ea-98b6-4d47b056fbb6",
   "metadata": {},
   "source": [
    "Analysis: The results indicate a statistically significant difference in user ratings across genres (p-value < 0.05). On average, fictional books tend to receive higher user ratings than non-fiction books. This suggests that genre is associated with differences in user ratings, supporting the conclusion that some genres are generally rated higher than others."
   ]
  }
 ],
 "metadata": {
  "kernelspec": {
   "display_name": "anaconda-ai-2024.04-py310",
   "language": "python",
   "name": "conda-env-anaconda-ai-2024.04-py310-py"
  },
  "language_info": {
   "codemirror_mode": {
    "name": "ipython",
    "version": 3
   },
   "file_extension": ".py",
   "mimetype": "text/x-python",
   "name": "python",
   "nbconvert_exporter": "python",
   "pygments_lexer": "ipython3",
   "version": "3.10.13"
  }
 },
 "nbformat": 4,
 "nbformat_minor": 5
}
