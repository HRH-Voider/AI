{
 "cells": [
  {
   "cell_type": "markdown",
   "id": "580fc090-3385-4b29-b407-0daf4a87cfa4",
   "metadata": {},
   "source": [
    "What percent of non first class passengers survived?"
   ]
  },
  {
   "cell_type": "markdown",
   "id": "8e9e40e6-9364-437f-915e-c58194d57fca",
   "metadata": {},
   "source": [
    "I will be using an retrospective observational study to answer my question, as I will be going through the dataset that I have to try and answer this question using my census sampling."
   ]
  },
  {
   "cell_type": "code",
   "execution_count": 46,
   "id": "48fe7466-c6cb-4a9a-8266-c6193d3def7a",
   "metadata": {},
   "outputs": [
    {
     "name": "stdout",
     "output_type": "stream",
     "text": [
      "Pandas version: 2.1.4\n"
     ]
    }
   ],
   "source": [
    "# Import pandas\n",
    "import pandas as pd\n",
    "import numpy as np\n",
    "\n",
    "# Verify pandas is imported correctly by checking the version\n",
    "print(f\"Pandas version: {pd.__version__}\")\n",
    "\n",
    "# You can now use pandas in your notebook"
   ]
  },
  {
   "cell_type": "code",
   "execution_count": 47,
   "id": "39bc57ef-5e04-479b-857e-79a4da6b2b08",
   "metadata": {},
   "outputs": [
    {
     "data": {
      "text/plain": [
       "<bound method DataFrame.info of      PassengerId  Survived  Pclass  \\\n",
       "0              1         0       3   \n",
       "1              2         1       1   \n",
       "2              3         1       3   \n",
       "3              4         1       1   \n",
       "4              5         0       3   \n",
       "..           ...       ...     ...   \n",
       "886          887         0       2   \n",
       "887          888         1       1   \n",
       "888          889         0       3   \n",
       "889          890         1       1   \n",
       "890          891         0       3   \n",
       "\n",
       "                                                  Name     Sex   Age  SibSp  \\\n",
       "0                              Braund, Mr. Owen Harris    male  22.0      1   \n",
       "1    Cumings, Mrs. John Bradley (Florence Briggs Th...  female  38.0      1   \n",
       "2                               Heikkinen, Miss. Laina  female  26.0      0   \n",
       "3         Futrelle, Mrs. Jacques Heath (Lily May Peel)  female  35.0      1   \n",
       "4                             Allen, Mr. William Henry    male  35.0      0   \n",
       "..                                                 ...     ...   ...    ...   \n",
       "886                              Montvila, Rev. Juozas    male  27.0      0   \n",
       "887                       Graham, Miss. Margaret Edith  female  19.0      0   \n",
       "888           Johnston, Miss. Catherine Helen \"Carrie\"  female   NaN      1   \n",
       "889                              Behr, Mr. Karl Howell    male  26.0      0   \n",
       "890                                Dooley, Mr. Patrick    male  32.0      0   \n",
       "\n",
       "     Parch            Ticket     Fare Cabin Embarked  \n",
       "0        0         A/5 21171   7.2500   NaN        S  \n",
       "1        0          PC 17599  71.2833   C85        C  \n",
       "2        0  STON/O2. 3101282   7.9250   NaN        S  \n",
       "3        0            113803  53.1000  C123        S  \n",
       "4        0            373450   8.0500   NaN        S  \n",
       "..     ...               ...      ...   ...      ...  \n",
       "886      0            211536  13.0000   NaN        S  \n",
       "887      0            112053  30.0000   B42        S  \n",
       "888      2        W./C. 6607  23.4500   NaN        S  \n",
       "889      0            111369  30.0000  C148        C  \n",
       "890      0            370376   7.7500   NaN        Q  \n",
       "\n",
       "[891 rows x 12 columns]>"
      ]
     },
     "execution_count": 47,
     "metadata": {},
     "output_type": "execute_result"
    }
   ],
   "source": [
    "# Load a CSV file into a DataFrame\n",
    "df = pd.read_csv('titanic.csv')\n",
    "df.info"
   ]
  },
  {
   "cell_type": "code",
   "execution_count": 48,
   "id": "07bde512-6419-4c85-b282-80c19cb19743",
   "metadata": {},
   "outputs": [
    {
     "name": "stdout",
     "output_type": "stream",
     "text": [
      "Displaying collumns using df.columns\n",
      "Index(['PassengerId', 'Survived', 'Pclass', 'Name', 'Sex', 'Age', 'SibSp',\n",
      "       'Parch', 'Ticket', 'Fare', 'Cabin', 'Embarked'],\n",
      "      dtype='object')\n"
     ]
    }
   ],
   "source": [
    "# Method 1: Using the columns attribute to display the collumns from your dataframe.\n",
    "print(\"Displaying collumns using df.columns\")\n",
    "print(df.columns)"
   ]
  },
  {
   "cell_type": "code",
   "execution_count": 49,
   "id": "68c5dcb5-d1ba-4536-8d6c-2445c43ae376",
   "metadata": {},
   "outputs": [
    {
     "name": "stdout",
     "output_type": "stream",
     "text": [
      "Method 1 - Using len(): 891 samples\n"
     ]
    }
   ],
   "source": [
    "# Method 1: Using len() function to determine how many samples are found in my dataset.\n",
    "count_1 = len(df)\n",
    "print(f\"Method 1 - Using len(): {count_1} samples\")"
   ]
  },
  {
   "cell_type": "code",
   "execution_count": 50,
   "id": "92afd7b5-c975-479e-a92a-aeaa178f4e81",
   "metadata": {},
   "outputs": [
    {
     "name": "stdout",
     "output_type": "stream",
     "text": [
      "Method 1 - Using df.iloc[6]:\n",
      "PassengerId                          7\n",
      "Survived                             0\n",
      "Pclass                               1\n",
      "Name           McCarthy, Mr. Timothy J\n",
      "Sex                               male\n",
      "Age                               54.0\n",
      "SibSp                                0\n",
      "Parch                                0\n",
      "Ticket                           17463\n",
      "Fare                           51.8625\n",
      "Cabin                              E46\n",
      "Embarked                             S\n",
      "Name: 6, dtype: object\n",
      "\n",
      "--------------------------------------------------\n",
      "\n"
     ]
    }
   ],
   "source": [
    "# Method 1: Accessing the seventh sample using iloc (integer-location based indexing)\n",
    "# This is the most straightforward way to access a row by position\n",
    "seventh_sample_iloc = df.iloc[6]\n",
    "print(\"Method 1 - Using df.iloc[6]:\")\n",
    "print(seventh_sample_iloc)\n",
    "print(\"\\n\" + \"-\"*50 + \"\\n\")"
   ]
  },
  {
   "cell_type": "code",
   "execution_count": 51,
   "id": "c3ea4d77-1e71-4c29-946b-7ed3060370e4",
   "metadata": {},
   "outputs": [
    {
     "data": {
      "text/html": [
       "<div>\n",
       "<style scoped>\n",
       "    .dataframe tbody tr th:only-of-type {\n",
       "        vertical-align: middle;\n",
       "    }\n",
       "\n",
       "    .dataframe tbody tr th {\n",
       "        vertical-align: top;\n",
       "    }\n",
       "\n",
       "    .dataframe thead th {\n",
       "        text-align: right;\n",
       "    }\n",
       "</style>\n",
       "<table border=\"1\" class=\"dataframe\">\n",
       "  <thead>\n",
       "    <tr style=\"text-align: right;\">\n",
       "      <th></th>\n",
       "      <th>PassengerId</th>\n",
       "      <th>Survived</th>\n",
       "      <th>Pclass</th>\n",
       "      <th>Name</th>\n",
       "      <th>Sex</th>\n",
       "      <th>Age</th>\n",
       "      <th>SibSp</th>\n",
       "      <th>Parch</th>\n",
       "      <th>Ticket</th>\n",
       "      <th>Fare</th>\n",
       "      <th>Cabin</th>\n",
       "      <th>Embarked</th>\n",
       "    </tr>\n",
       "  </thead>\n",
       "  <tbody>\n",
       "    <tr>\n",
       "      <th>5</th>\n",
       "      <td>6</td>\n",
       "      <td>0</td>\n",
       "      <td>3</td>\n",
       "      <td>Moran, Mr. James</td>\n",
       "      <td>male</td>\n",
       "      <td>NaN</td>\n",
       "      <td>0</td>\n",
       "      <td>0</td>\n",
       "      <td>330877</td>\n",
       "      <td>8.4583</td>\n",
       "      <td>NaN</td>\n",
       "      <td>Q</td>\n",
       "    </tr>\n",
       "    <tr>\n",
       "      <th>16</th>\n",
       "      <td>17</td>\n",
       "      <td>0</td>\n",
       "      <td>3</td>\n",
       "      <td>Rice, Master. Eugene</td>\n",
       "      <td>male</td>\n",
       "      <td>2.0</td>\n",
       "      <td>4</td>\n",
       "      <td>1</td>\n",
       "      <td>382652</td>\n",
       "      <td>29.1250</td>\n",
       "      <td>NaN</td>\n",
       "      <td>Q</td>\n",
       "    </tr>\n",
       "    <tr>\n",
       "      <th>22</th>\n",
       "      <td>23</td>\n",
       "      <td>1</td>\n",
       "      <td>3</td>\n",
       "      <td>McGowan, Miss. Anna \"Annie\"</td>\n",
       "      <td>female</td>\n",
       "      <td>15.0</td>\n",
       "      <td>0</td>\n",
       "      <td>0</td>\n",
       "      <td>330923</td>\n",
       "      <td>8.0292</td>\n",
       "      <td>NaN</td>\n",
       "      <td>Q</td>\n",
       "    </tr>\n",
       "    <tr>\n",
       "      <th>28</th>\n",
       "      <td>29</td>\n",
       "      <td>1</td>\n",
       "      <td>3</td>\n",
       "      <td>O'Dwyer, Miss. Ellen \"Nellie\"</td>\n",
       "      <td>female</td>\n",
       "      <td>NaN</td>\n",
       "      <td>0</td>\n",
       "      <td>0</td>\n",
       "      <td>330959</td>\n",
       "      <td>7.8792</td>\n",
       "      <td>NaN</td>\n",
       "      <td>Q</td>\n",
       "    </tr>\n",
       "    <tr>\n",
       "      <th>32</th>\n",
       "      <td>33</td>\n",
       "      <td>1</td>\n",
       "      <td>3</td>\n",
       "      <td>Glynn, Miss. Mary Agatha</td>\n",
       "      <td>female</td>\n",
       "      <td>NaN</td>\n",
       "      <td>0</td>\n",
       "      <td>0</td>\n",
       "      <td>335677</td>\n",
       "      <td>7.7500</td>\n",
       "      <td>NaN</td>\n",
       "      <td>Q</td>\n",
       "    </tr>\n",
       "    <tr>\n",
       "      <th>...</th>\n",
       "      <td>...</td>\n",
       "      <td>...</td>\n",
       "      <td>...</td>\n",
       "      <td>...</td>\n",
       "      <td>...</td>\n",
       "      <td>...</td>\n",
       "      <td>...</td>\n",
       "      <td>...</td>\n",
       "      <td>...</td>\n",
       "      <td>...</td>\n",
       "      <td>...</td>\n",
       "      <td>...</td>\n",
       "    </tr>\n",
       "    <tr>\n",
       "      <th>790</th>\n",
       "      <td>791</td>\n",
       "      <td>0</td>\n",
       "      <td>3</td>\n",
       "      <td>Keane, Mr. Andrew \"Andy\"</td>\n",
       "      <td>male</td>\n",
       "      <td>NaN</td>\n",
       "      <td>0</td>\n",
       "      <td>0</td>\n",
       "      <td>12460</td>\n",
       "      <td>7.7500</td>\n",
       "      <td>NaN</td>\n",
       "      <td>Q</td>\n",
       "    </tr>\n",
       "    <tr>\n",
       "      <th>825</th>\n",
       "      <td>826</td>\n",
       "      <td>0</td>\n",
       "      <td>3</td>\n",
       "      <td>Flynn, Mr. John</td>\n",
       "      <td>male</td>\n",
       "      <td>NaN</td>\n",
       "      <td>0</td>\n",
       "      <td>0</td>\n",
       "      <td>368323</td>\n",
       "      <td>6.9500</td>\n",
       "      <td>NaN</td>\n",
       "      <td>Q</td>\n",
       "    </tr>\n",
       "    <tr>\n",
       "      <th>828</th>\n",
       "      <td>829</td>\n",
       "      <td>1</td>\n",
       "      <td>3</td>\n",
       "      <td>McCormack, Mr. Thomas Joseph</td>\n",
       "      <td>male</td>\n",
       "      <td>NaN</td>\n",
       "      <td>0</td>\n",
       "      <td>0</td>\n",
       "      <td>367228</td>\n",
       "      <td>7.7500</td>\n",
       "      <td>NaN</td>\n",
       "      <td>Q</td>\n",
       "    </tr>\n",
       "    <tr>\n",
       "      <th>885</th>\n",
       "      <td>886</td>\n",
       "      <td>0</td>\n",
       "      <td>3</td>\n",
       "      <td>Rice, Mrs. William (Margaret Norton)</td>\n",
       "      <td>female</td>\n",
       "      <td>39.0</td>\n",
       "      <td>0</td>\n",
       "      <td>5</td>\n",
       "      <td>382652</td>\n",
       "      <td>29.1250</td>\n",
       "      <td>NaN</td>\n",
       "      <td>Q</td>\n",
       "    </tr>\n",
       "    <tr>\n",
       "      <th>890</th>\n",
       "      <td>891</td>\n",
       "      <td>0</td>\n",
       "      <td>3</td>\n",
       "      <td>Dooley, Mr. Patrick</td>\n",
       "      <td>male</td>\n",
       "      <td>32.0</td>\n",
       "      <td>0</td>\n",
       "      <td>0</td>\n",
       "      <td>370376</td>\n",
       "      <td>7.7500</td>\n",
       "      <td>NaN</td>\n",
       "      <td>Q</td>\n",
       "    </tr>\n",
       "  </tbody>\n",
       "</table>\n",
       "<p>77 rows × 12 columns</p>\n",
       "</div>"
      ],
      "text/plain": [
       "     PassengerId  Survived  Pclass                                  Name  \\\n",
       "5              6         0       3                      Moran, Mr. James   \n",
       "16            17         0       3                  Rice, Master. Eugene   \n",
       "22            23         1       3           McGowan, Miss. Anna \"Annie\"   \n",
       "28            29         1       3         O'Dwyer, Miss. Ellen \"Nellie\"   \n",
       "32            33         1       3              Glynn, Miss. Mary Agatha   \n",
       "..           ...       ...     ...                                   ...   \n",
       "790          791         0       3              Keane, Mr. Andrew \"Andy\"   \n",
       "825          826         0       3                       Flynn, Mr. John   \n",
       "828          829         1       3          McCormack, Mr. Thomas Joseph   \n",
       "885          886         0       3  Rice, Mrs. William (Margaret Norton)   \n",
       "890          891         0       3                   Dooley, Mr. Patrick   \n",
       "\n",
       "        Sex   Age  SibSp  Parch  Ticket     Fare Cabin Embarked  \n",
       "5      male   NaN      0      0  330877   8.4583   NaN        Q  \n",
       "16     male   2.0      4      1  382652  29.1250   NaN        Q  \n",
       "22   female  15.0      0      0  330923   8.0292   NaN        Q  \n",
       "28   female   NaN      0      0  330959   7.8792   NaN        Q  \n",
       "32   female   NaN      0      0  335677   7.7500   NaN        Q  \n",
       "..      ...   ...    ...    ...     ...      ...   ...      ...  \n",
       "790    male   NaN      0      0   12460   7.7500   NaN        Q  \n",
       "825    male   NaN      0      0  368323   6.9500   NaN        Q  \n",
       "828    male   NaN      0      0  367228   7.7500   NaN        Q  \n",
       "885  female  39.0      0      5  382652  29.1250   NaN        Q  \n",
       "890    male  32.0      0      0  370376   7.7500   NaN        Q  \n",
       "\n",
       "[77 rows x 12 columns]"
      ]
     },
     "execution_count": 51,
     "metadata": {},
     "output_type": "execute_result"
    }
   ],
   "source": [
    "df[df[\"Embarked\"] == \"Q\"]"
   ]
  },
  {
   "cell_type": "code",
   "execution_count": 52,
   "id": "1b7c7d7f-ff2e-4297-88d3-0c28e63af4ab",
   "metadata": {},
   "outputs": [],
   "source": [
    "# Load the Titanic dataset\n",
    "try:\n",
    "    # Try to load from a local file first\n",
    "    titanic = pd.read_csv('titanic.csv')\n",
    "except:\n",
    "    # If that fails, load the sample Titanic dataset\n",
    "    import seaborn as sns\n",
    "    titanic = sns.load_dataset('titanic')"
   ]
  },
  {
   "cell_type": "code",
   "execution_count": 53,
   "id": "9d9ef85c-8e5c-445e-a07d-2232737c7075",
   "metadata": {},
   "outputs": [
    {
     "name": "stdout",
     "output_type": "stream",
     "text": [
      "First few rows of the dataset:\n",
      "   PassengerId  Survived  Pclass  \\\n",
      "0            1         0       3   \n",
      "1            2         1       1   \n",
      "2            3         1       3   \n",
      "3            4         1       1   \n",
      "4            5         0       3   \n",
      "\n",
      "                                                Name     Sex   Age  SibSp  \\\n",
      "0                            Braund, Mr. Owen Harris    male  22.0      1   \n",
      "1  Cumings, Mrs. John Bradley (Florence Briggs Th...  female  38.0      1   \n",
      "2                             Heikkinen, Miss. Laina  female  26.0      0   \n",
      "3       Futrelle, Mrs. Jacques Heath (Lily May Peel)  female  35.0      1   \n",
      "4                           Allen, Mr. William Henry    male  35.0      0   \n",
      "\n",
      "   Parch            Ticket     Fare Cabin Embarked  \n",
      "0      0         A/5 21171   7.2500   NaN        S  \n",
      "1      0          PC 17599  71.2833   C85        C  \n",
      "2      0  STON/O2. 3101282   7.9250   NaN        S  \n",
      "3      0            113803  53.1000  C123        S  \n",
      "4      0            373450   8.0500   NaN        S  \n"
     ]
    }
   ],
   "source": [
    "# Display the first few rows to understand the data structure\n",
    "print(\"First few rows of the dataset:\")\n",
    "print(titanic.head())"
   ]
  },
  {
   "cell_type": "code",
   "execution_count": 54,
   "id": "fb0793a6-3626-43c3-a5ba-ec39cc7eaab9",
   "metadata": {},
   "outputs": [
    {
     "name": "stdout",
     "output_type": "stream",
     "text": [
      "\n",
      "Column names: ['PassengerId', 'Survived', 'Pclass', 'Name', 'Sex', 'Age', 'SibSp', 'Parch', 'Ticket', 'Fare', 'Cabin', 'Embarked']\n"
     ]
    }
   ],
   "source": [
    "# Check column names to confirm we have 'survived' and 'pclass' columns\n",
    "print(\"\\nColumn names:\", list(titanic.columns))"
   ]
  },
  {
   "cell_type": "code",
   "execution_count": 55,
   "id": "1c2577a8-2708-470c-8683-10720c8e400a",
   "metadata": {},
   "outputs": [],
   "source": [
    "# Calculate the number of non-first class survivors\n",
    "# First class is represented as pclass=1\n",
    "non_first_class_survivors = titanic[(titanic['Survived'] == 1) & (titanic['Pclass'] != 1)]"
   ]
  },
  {
   "cell_type": "code",
   "execution_count": 56,
   "id": "8d6d1df3-1069-4fa7-b942-1024f3602325",
   "metadata": {},
   "outputs": [],
   "source": [
    "# Calculate the percentage relative to all passengers\n",
    "total_passengers = len(titanic)\n",
    "percentage_of_all = (len(non_first_class_survivors) / total_passengers) * 100"
   ]
  },
  {
   "cell_type": "code",
   "execution_count": 57,
   "id": "e5cd46b2-cd60-4028-9771-9590511f681f",
   "metadata": {},
   "outputs": [],
   "source": [
    "# Calculate the percentage relative to all non-first class passengers\n",
    "non_first_class_passengers = titanic[titanic['Pclass'] != 1]\n",
    "percentage_of_non_first = (len(non_first_class_survivors) / len(non_first_class_passengers)) * 100"
   ]
  },
  {
   "cell_type": "code",
   "execution_count": 58,
   "id": "ae091126-020f-459a-83a7-8f0cdcb82180",
   "metadata": {},
   "outputs": [],
   "source": [
    "# Calculate the percentage relative to all survivors\n",
    "all_survivors = titanic[titanic['Survived'] == 1]\n",
    "percentage_of_survivors = (len(non_first_class_survivors) / len(all_survivors)) * 100"
   ]
  },
  {
   "cell_type": "code",
   "execution_count": 59,
   "id": "dccbbbe2-7c69-47eb-ba2b-e9c5851bc3cc",
   "metadata": {},
   "outputs": [
    {
     "name": "stdout",
     "output_type": "stream",
     "text": [
      "\n",
      "Total passengers: 891\n",
      "Non-first class survivors: 206\n",
      "Percentage of all passengers who were non-first class survivors: 23.12%\n",
      "Percentage of non-first class passengers who survived: 30.52%\n",
      "Percentage of survivors who were non-first class: 60.23%\n"
     ]
    }
   ],
   "source": [
    "# Display the results\n",
    "print(f\"\\nTotal passengers: {total_passengers}\")\n",
    "print(f\"Non-first class survivors: {len(non_first_class_survivors)}\")\n",
    "print(f\"Percentage of all passengers who were non-first class survivors: {percentage_of_all:.2f}%\")\n",
    "print(f\"Percentage of non-first class passengers who survived: {percentage_of_non_first:.2f}%\")\n",
    "print(f\"Percentage of survivors who were non-first class: {percentage_of_survivors:.2f}%\")"
   ]
  },
  {
   "cell_type": "markdown",
   "id": "4e7c6d84-8b62-4473-bf57-044f3621ebd2",
   "metadata": {},
   "source": [
    "Only 30.52% of all the non-first class passengers survived the sinking of the titanic."
   ]
  },
  {
   "cell_type": "markdown",
   "id": "cd33a02a-14ef-4eeb-9580-900517a0c3c8",
   "metadata": {},
   "source": [
    "My study may contain biases in information because it is incomplete, meaning it may over or underrepresent certain groups, and "
   ]
  }
 ],
 "metadata": {
  "kernelspec": {
   "display_name": "anaconda-ai-2024.04-py310",
   "language": "python",
   "name": "conda-env-anaconda-ai-2024.04-py310-py"
  },
  "language_info": {
   "codemirror_mode": {
    "name": "ipython",
    "version": 3
   },
   "file_extension": ".py",
   "mimetype": "text/x-python",
   "name": "python",
   "nbconvert_exporter": "python",
   "pygments_lexer": "ipython3",
   "version": "3.10.13"
  }
 },
 "nbformat": 4,
 "nbformat_minor": 5
}
